{
 "cells": [
  {
   "cell_type": "code",
   "execution_count": 1,
   "metadata": {
    "collapsed": true,
    "pycharm": {
     "name": "#%%\n"
    }
   },
   "outputs": [],
   "source": [
    "import random\n",
    "import pandas as pd\n",
    "from sklearn.preprocessing import LabelEncoder,StandardScaler\n"
   ]
  },
  {
   "cell_type": "code",
   "execution_count": 2,
   "outputs": [],
   "source": [
    "##Creating training data\n",
    "data = {\n",
    "    'size': [],\n",
    "    'color': [],\n",
    "    'gender': [],\n",
    "    'price': [],\n",
    "    'weight': [],\n",
    "    'bought': []\n",
    "}\n",
    "sizes = [\"XS\",\"S\",\"M\",\"L\",\"XL\"]\n",
    "genders = [\"M\",\"F\"]\n",
    "colors = [\"red\",\"green\",\"white\",\"black\",\"yellow\",\"gray\",\"purple\",\"orange\",\"blue\"]\n",
    "for _ in range(20):\n",
    "\tdata[\"size\"].append(random.choice(sizes))\n",
    "\tdata[\"color\"].append(random.choice(colors))\n",
    "\tdata[\"gender\"].append(random.choice(genders))\n",
    "\tdata[\"price\"].append(round(random.random()*500,2))\n",
    "\tdata['weight'].append(random.randint(50,150))\n",
    "\tdata['bought'].append('yes' if random.random()>0.5 else 'no')\n",
    "\n",
    "og_data = pd.DataFrame(data)\n",
    "df = og_data.copy()"
   ],
   "metadata": {
    "collapsed": false,
    "pycharm": {
     "name": "#%%\n"
    }
   }
  },
  {
   "cell_type": "code",
   "execution_count": 3,
   "outputs": [
    {
     "data": {
      "text/plain": "       count unique   top freq\nsize      20      5    XS    7\ncolor     20      9  blue    4\ngender    20      2     M   13\nbought    20      2   yes   11",
      "text/html": "<div>\n<style scoped>\n    .dataframe tbody tr th:only-of-type {\n        vertical-align: middle;\n    }\n\n    .dataframe tbody tr th {\n        vertical-align: top;\n    }\n\n    .dataframe thead th {\n        text-align: right;\n    }\n</style>\n<table border=\"1\" class=\"dataframe\">\n  <thead>\n    <tr style=\"text-align: right;\">\n      <th></th>\n      <th>count</th>\n      <th>unique</th>\n      <th>top</th>\n      <th>freq</th>\n    </tr>\n  </thead>\n  <tbody>\n    <tr>\n      <th>size</th>\n      <td>20</td>\n      <td>5</td>\n      <td>XS</td>\n      <td>7</td>\n    </tr>\n    <tr>\n      <th>color</th>\n      <td>20</td>\n      <td>9</td>\n      <td>blue</td>\n      <td>4</td>\n    </tr>\n    <tr>\n      <th>gender</th>\n      <td>20</td>\n      <td>2</td>\n      <td>M</td>\n      <td>13</td>\n    </tr>\n    <tr>\n      <th>bought</th>\n      <td>20</td>\n      <td>2</td>\n      <td>yes</td>\n      <td>11</td>\n    </tr>\n  </tbody>\n</table>\n</div>"
     },
     "execution_count": 3,
     "metadata": {},
     "output_type": "execute_result"
    }
   ],
   "source": [
    "for col in ['size', 'color', 'gender', 'bought']:\n",
    "    df[col] = df[col].astype('category')\n",
    "\n",
    "df.describe(include=['category']).T"
   ],
   "metadata": {
    "collapsed": false,
    "pycharm": {
     "name": "#%%\n"
    }
   }
  },
  {
   "cell_type": "code",
   "execution_count": 4,
   "outputs": [],
   "source": [
    "le = LabelEncoder()\n",
    "df['bought'] = le.fit_transform(df['bought'])"
   ],
   "metadata": {
    "collapsed": false,
    "pycharm": {
     "name": "#%%\n"
    }
   }
  },
  {
   "cell_type": "code",
   "execution_count": 5,
   "outputs": [
    {
     "data": {
      "text/plain": "     price  weight  bought  size_M  size_S  size_XL  size_XS  color_blue  \\\n0   340.25     117       0       1       0        0        0           0   \n1   176.97     129       0       1       0        0        0           0   \n2   373.94     138       0       0       0        1        0           0   \n3   139.23     103       1       1       0        0        0           1   \n4    70.31      56       1       0       0        0        1           0   \n5   168.65     124       1       0       0        0        0           1   \n6   312.77     150       1       1       0        0        0           0   \n7   157.43      66       0       0       0        0        1           1   \n8   478.76      91       0       0       0        1        0           0   \n9    24.24     131       0       0       0        1        0           0   \n10  280.53     101       1       0       0        0        1           0   \n11  133.97     113       0       0       0        0        1           0   \n12   86.12      79       1       1       0        0        0           0   \n13   77.79      92       1       0       1        0        0           0   \n14    5.78     131       1       0       0        0        1           0   \n15  121.45      53       0       0       0        0        1           0   \n16  348.76     128       1       0       0        1        0           0   \n17  479.47      66       0       0       0        0        1           1   \n18  146.64     120       1       1       0        0        0           0   \n19  219.30      61       1       0       0        0        0           0   \n\n    color_gray  color_green  color_orange  color_purple  color_red  \\\n0            0            0             0             0          0   \n1            0            0             0             0          1   \n2            0            0             0             0          0   \n3            0            0             0             0          0   \n4            0            0             0             0          0   \n5            0            0             0             0          0   \n6            0            0             0             0          0   \n7            0            0             0             0          0   \n8            0            0             1             0          0   \n9            0            0             0             0          0   \n10           0            1             0             0          0   \n11           0            0             1             0          0   \n12           0            0             0             1          0   \n13           1            0             0             0          0   \n14           0            0             1             0          0   \n15           1            0             0             0          0   \n16           0            1             0             0          0   \n17           0            0             0             0          0   \n18           0            1             0             0          0   \n19           0            0             0             1          0   \n\n    color_white  color_yellow  gender_M  \n0             0             1         0  \n1             0             0         1  \n2             0             1         1  \n3             0             0         1  \n4             1             0         1  \n5             0             0         1  \n6             0             0         1  \n7             0             0         0  \n8             0             0         0  \n9             0             1         1  \n10            0             0         1  \n11            0             0         0  \n12            0             0         1  \n13            0             0         1  \n14            0             0         0  \n15            0             0         1  \n16            0             0         1  \n17            0             0         0  \n18            0             0         1  \n19            0             0         0  ",
      "text/html": "<div>\n<style scoped>\n    .dataframe tbody tr th:only-of-type {\n        vertical-align: middle;\n    }\n\n    .dataframe tbody tr th {\n        vertical-align: top;\n    }\n\n    .dataframe thead th {\n        text-align: right;\n    }\n</style>\n<table border=\"1\" class=\"dataframe\">\n  <thead>\n    <tr style=\"text-align: right;\">\n      <th></th>\n      <th>price</th>\n      <th>weight</th>\n      <th>bought</th>\n      <th>size_M</th>\n      <th>size_S</th>\n      <th>size_XL</th>\n      <th>size_XS</th>\n      <th>color_blue</th>\n      <th>color_gray</th>\n      <th>color_green</th>\n      <th>color_orange</th>\n      <th>color_purple</th>\n      <th>color_red</th>\n      <th>color_white</th>\n      <th>color_yellow</th>\n      <th>gender_M</th>\n    </tr>\n  </thead>\n  <tbody>\n    <tr>\n      <th>0</th>\n      <td>340.25</td>\n      <td>117</td>\n      <td>0</td>\n      <td>1</td>\n      <td>0</td>\n      <td>0</td>\n      <td>0</td>\n      <td>0</td>\n      <td>0</td>\n      <td>0</td>\n      <td>0</td>\n      <td>0</td>\n      <td>0</td>\n      <td>0</td>\n      <td>1</td>\n      <td>0</td>\n    </tr>\n    <tr>\n      <th>1</th>\n      <td>176.97</td>\n      <td>129</td>\n      <td>0</td>\n      <td>1</td>\n      <td>0</td>\n      <td>0</td>\n      <td>0</td>\n      <td>0</td>\n      <td>0</td>\n      <td>0</td>\n      <td>0</td>\n      <td>0</td>\n      <td>1</td>\n      <td>0</td>\n      <td>0</td>\n      <td>1</td>\n    </tr>\n    <tr>\n      <th>2</th>\n      <td>373.94</td>\n      <td>138</td>\n      <td>0</td>\n      <td>0</td>\n      <td>0</td>\n      <td>1</td>\n      <td>0</td>\n      <td>0</td>\n      <td>0</td>\n      <td>0</td>\n      <td>0</td>\n      <td>0</td>\n      <td>0</td>\n      <td>0</td>\n      <td>1</td>\n      <td>1</td>\n    </tr>\n    <tr>\n      <th>3</th>\n      <td>139.23</td>\n      <td>103</td>\n      <td>1</td>\n      <td>1</td>\n      <td>0</td>\n      <td>0</td>\n      <td>0</td>\n      <td>1</td>\n      <td>0</td>\n      <td>0</td>\n      <td>0</td>\n      <td>0</td>\n      <td>0</td>\n      <td>0</td>\n      <td>0</td>\n      <td>1</td>\n    </tr>\n    <tr>\n      <th>4</th>\n      <td>70.31</td>\n      <td>56</td>\n      <td>1</td>\n      <td>0</td>\n      <td>0</td>\n      <td>0</td>\n      <td>1</td>\n      <td>0</td>\n      <td>0</td>\n      <td>0</td>\n      <td>0</td>\n      <td>0</td>\n      <td>0</td>\n      <td>1</td>\n      <td>0</td>\n      <td>1</td>\n    </tr>\n    <tr>\n      <th>5</th>\n      <td>168.65</td>\n      <td>124</td>\n      <td>1</td>\n      <td>0</td>\n      <td>0</td>\n      <td>0</td>\n      <td>0</td>\n      <td>1</td>\n      <td>0</td>\n      <td>0</td>\n      <td>0</td>\n      <td>0</td>\n      <td>0</td>\n      <td>0</td>\n      <td>0</td>\n      <td>1</td>\n    </tr>\n    <tr>\n      <th>6</th>\n      <td>312.77</td>\n      <td>150</td>\n      <td>1</td>\n      <td>1</td>\n      <td>0</td>\n      <td>0</td>\n      <td>0</td>\n      <td>0</td>\n      <td>0</td>\n      <td>0</td>\n      <td>0</td>\n      <td>0</td>\n      <td>0</td>\n      <td>0</td>\n      <td>0</td>\n      <td>1</td>\n    </tr>\n    <tr>\n      <th>7</th>\n      <td>157.43</td>\n      <td>66</td>\n      <td>0</td>\n      <td>0</td>\n      <td>0</td>\n      <td>0</td>\n      <td>1</td>\n      <td>1</td>\n      <td>0</td>\n      <td>0</td>\n      <td>0</td>\n      <td>0</td>\n      <td>0</td>\n      <td>0</td>\n      <td>0</td>\n      <td>0</td>\n    </tr>\n    <tr>\n      <th>8</th>\n      <td>478.76</td>\n      <td>91</td>\n      <td>0</td>\n      <td>0</td>\n      <td>0</td>\n      <td>1</td>\n      <td>0</td>\n      <td>0</td>\n      <td>0</td>\n      <td>0</td>\n      <td>1</td>\n      <td>0</td>\n      <td>0</td>\n      <td>0</td>\n      <td>0</td>\n      <td>0</td>\n    </tr>\n    <tr>\n      <th>9</th>\n      <td>24.24</td>\n      <td>131</td>\n      <td>0</td>\n      <td>0</td>\n      <td>0</td>\n      <td>1</td>\n      <td>0</td>\n      <td>0</td>\n      <td>0</td>\n      <td>0</td>\n      <td>0</td>\n      <td>0</td>\n      <td>0</td>\n      <td>0</td>\n      <td>1</td>\n      <td>1</td>\n    </tr>\n    <tr>\n      <th>10</th>\n      <td>280.53</td>\n      <td>101</td>\n      <td>1</td>\n      <td>0</td>\n      <td>0</td>\n      <td>0</td>\n      <td>1</td>\n      <td>0</td>\n      <td>0</td>\n      <td>1</td>\n      <td>0</td>\n      <td>0</td>\n      <td>0</td>\n      <td>0</td>\n      <td>0</td>\n      <td>1</td>\n    </tr>\n    <tr>\n      <th>11</th>\n      <td>133.97</td>\n      <td>113</td>\n      <td>0</td>\n      <td>0</td>\n      <td>0</td>\n      <td>0</td>\n      <td>1</td>\n      <td>0</td>\n      <td>0</td>\n      <td>0</td>\n      <td>1</td>\n      <td>0</td>\n      <td>0</td>\n      <td>0</td>\n      <td>0</td>\n      <td>0</td>\n    </tr>\n    <tr>\n      <th>12</th>\n      <td>86.12</td>\n      <td>79</td>\n      <td>1</td>\n      <td>1</td>\n      <td>0</td>\n      <td>0</td>\n      <td>0</td>\n      <td>0</td>\n      <td>0</td>\n      <td>0</td>\n      <td>0</td>\n      <td>1</td>\n      <td>0</td>\n      <td>0</td>\n      <td>0</td>\n      <td>1</td>\n    </tr>\n    <tr>\n      <th>13</th>\n      <td>77.79</td>\n      <td>92</td>\n      <td>1</td>\n      <td>0</td>\n      <td>1</td>\n      <td>0</td>\n      <td>0</td>\n      <td>0</td>\n      <td>1</td>\n      <td>0</td>\n      <td>0</td>\n      <td>0</td>\n      <td>0</td>\n      <td>0</td>\n      <td>0</td>\n      <td>1</td>\n    </tr>\n    <tr>\n      <th>14</th>\n      <td>5.78</td>\n      <td>131</td>\n      <td>1</td>\n      <td>0</td>\n      <td>0</td>\n      <td>0</td>\n      <td>1</td>\n      <td>0</td>\n      <td>0</td>\n      <td>0</td>\n      <td>1</td>\n      <td>0</td>\n      <td>0</td>\n      <td>0</td>\n      <td>0</td>\n      <td>0</td>\n    </tr>\n    <tr>\n      <th>15</th>\n      <td>121.45</td>\n      <td>53</td>\n      <td>0</td>\n      <td>0</td>\n      <td>0</td>\n      <td>0</td>\n      <td>1</td>\n      <td>0</td>\n      <td>1</td>\n      <td>0</td>\n      <td>0</td>\n      <td>0</td>\n      <td>0</td>\n      <td>0</td>\n      <td>0</td>\n      <td>1</td>\n    </tr>\n    <tr>\n      <th>16</th>\n      <td>348.76</td>\n      <td>128</td>\n      <td>1</td>\n      <td>0</td>\n      <td>0</td>\n      <td>1</td>\n      <td>0</td>\n      <td>0</td>\n      <td>0</td>\n      <td>1</td>\n      <td>0</td>\n      <td>0</td>\n      <td>0</td>\n      <td>0</td>\n      <td>0</td>\n      <td>1</td>\n    </tr>\n    <tr>\n      <th>17</th>\n      <td>479.47</td>\n      <td>66</td>\n      <td>0</td>\n      <td>0</td>\n      <td>0</td>\n      <td>0</td>\n      <td>1</td>\n      <td>1</td>\n      <td>0</td>\n      <td>0</td>\n      <td>0</td>\n      <td>0</td>\n      <td>0</td>\n      <td>0</td>\n      <td>0</td>\n      <td>0</td>\n    </tr>\n    <tr>\n      <th>18</th>\n      <td>146.64</td>\n      <td>120</td>\n      <td>1</td>\n      <td>1</td>\n      <td>0</td>\n      <td>0</td>\n      <td>0</td>\n      <td>0</td>\n      <td>0</td>\n      <td>1</td>\n      <td>0</td>\n      <td>0</td>\n      <td>0</td>\n      <td>0</td>\n      <td>0</td>\n      <td>1</td>\n    </tr>\n    <tr>\n      <th>19</th>\n      <td>219.30</td>\n      <td>61</td>\n      <td>1</td>\n      <td>0</td>\n      <td>0</td>\n      <td>0</td>\n      <td>0</td>\n      <td>0</td>\n      <td>0</td>\n      <td>0</td>\n      <td>0</td>\n      <td>1</td>\n      <td>0</td>\n      <td>0</td>\n      <td>0</td>\n      <td>0</td>\n    </tr>\n  </tbody>\n</table>\n</div>"
     },
     "execution_count": 5,
     "metadata": {},
     "output_type": "execute_result"
    }
   ],
   "source": [
    "pd.get_dummies(data=df, drop_first=True)"
   ],
   "metadata": {
    "collapsed": false,
    "pycharm": {
     "name": "#%%\n"
    }
   }
  },
  {
   "cell_type": "code",
   "execution_count": 6,
   "outputs": [],
   "source": [
    "scaler = StandardScaler()\n",
    "df[['price', 'weight']] = scaler.fit_transform(df[['price', 'weight']])"
   ],
   "metadata": {
    "collapsed": false,
    "pycharm": {
     "name": "#%%\n"
    }
   }
  },
  {
   "cell_type": "code",
   "execution_count": 7,
   "outputs": [
    {
     "name": "stdout",
     "output_type": "stream",
     "text": [
      "|    | size   | color   | gender   |   price |   weight | bought   |\n",
      "|---:|:-------|:--------|:---------|--------:|---------:|:---------|\n",
      "|  0 | M      | yellow  | F        |  340.25 |      117 | no       |\n",
      "|  1 | M      | red     | M        |  176.97 |      129 | no       |\n",
      "|  2 | XL     | yellow  | M        |  373.94 |      138 | no       |\n",
      "|  3 | M      | blue    | M        |  139.23 |      103 | yes      |\n",
      "|  4 | XS     | white   | M        |   70.31 |       56 | yes      |\n",
      "|  5 | L      | blue    | M        |  168.65 |      124 | yes      |\n",
      "|  6 | M      | black   | M        |  312.77 |      150 | yes      |\n",
      "|  7 | XS     | blue    | F        |  157.43 |       66 | no       |\n",
      "|  8 | XL     | orange  | F        |  478.76 |       91 | no       |\n",
      "|  9 | XL     | yellow  | M        |   24.24 |      131 | no       |\n",
      "| 10 | XS     | green   | M        |  280.53 |      101 | yes      |\n",
      "| 11 | XS     | orange  | F        |  133.97 |      113 | no       |\n",
      "| 12 | M      | purple  | M        |   86.12 |       79 | yes      |\n",
      "| 13 | S      | gray    | M        |   77.79 |       92 | yes      |\n",
      "| 14 | XS     | orange  | F        |    5.78 |      131 | yes      |\n",
      "| 15 | XS     | gray    | M        |  121.45 |       53 | no       |\n",
      "| 16 | XL     | green   | M        |  348.76 |      128 | yes      |\n",
      "| 17 | XS     | blue    | F        |  479.47 |       66 | no       |\n",
      "| 18 | M      | green   | M        |  146.64 |      120 | yes      |\n",
      "| 19 | L      | purple  | F        |  219.3  |       61 | yes      |\n",
      "\n",
      "\n",
      "|    | size   | color   | gender   |      price |     weight |   bought |\n",
      "|---:|:-------|:--------|:---------|-----------:|-----------:|---------:|\n",
      "|  0 | M      | yellow  | F        |  0.965639  |  0.49359   |        0 |\n",
      "|  1 | M      | red     | M        | -0.218671  |  0.900674  |        0 |\n",
      "|  2 | XL     | yellow  | M        |  1.21      |  1.20599   |        0 |\n",
      "|  3 | M      | blue    | M        | -0.492408  |  0.018658  |        1 |\n",
      "|  4 | XS     | white   | M        | -0.992302  | -1.57576   |        1 |\n",
      "|  5 | L      | blue    | M        | -0.279018  |  0.731056  |        1 |\n",
      "|  6 | M      | black   | M        |  0.76632   |  1.61307   |        1 |\n",
      "|  7 | XS     | blue    | F        | -0.360399  | -1.23652   |        0 |\n",
      "|  8 | XL     | orange  | F        |  1.97029   | -0.388426  |        0 |\n",
      "|  9 | XL     | yellow  | M        | -1.32646   |  0.968522  |        0 |\n",
      "| 10 | XS     | green   | M        |  0.532475  | -0.0491894 |        1 |\n",
      "| 11 | XS     | orange  | F        | -0.53056   |  0.357895  |        0 |\n",
      "| 12 | M      | purple  | M        | -0.877628  | -0.795511  |        1 |\n",
      "| 13 | S      | gray    | M        | -0.938048  | -0.354503  |        1 |\n",
      "| 14 | XS     | orange  | F        | -1.46035   |  0.968522  |        1 |\n",
      "| 15 | XS     | gray    | M        | -0.621371  | -1.67753   |        0 |\n",
      "| 16 | XL     | green   | M        |  1.02736   |  0.866751  |        1 |\n",
      "| 17 | XS     | blue    | F        |  1.97544   | -1.23652   |        0 |\n",
      "| 18 | M      | green   | M        | -0.438662  |  0.595361  |        1 |\n",
      "| 19 | L      | purple  | F        |  0.0883591 | -1.40614   |        1 |\n"
     ]
    }
   ],
   "source": [
    "print(og_data.to_markdown()+\"\\n\\n\")\n",
    "print(df.to_markdown())"
   ],
   "metadata": {
    "collapsed": false,
    "pycharm": {
     "name": "#%%\n"
    }
   }
  }
 ],
 "metadata": {
  "kernelspec": {
   "display_name": "Python 3",
   "language": "python",
   "name": "python3"
  },
  "language_info": {
   "codemirror_mode": {
    "name": "ipython",
    "version": 2
   },
   "file_extension": ".py",
   "mimetype": "text/x-python",
   "name": "python",
   "nbconvert_exporter": "python",
   "pygments_lexer": "ipython2",
   "version": "2.7.6"
  }
 },
 "nbformat": 4,
 "nbformat_minor": 0
}