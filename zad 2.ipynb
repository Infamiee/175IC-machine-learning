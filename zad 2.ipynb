{
 "cells": [
  {
   "cell_type": "code",
   "execution_count": 1,
   "metadata": {
    "collapsed": true
   },
   "outputs": [],
   "source": [
    "import random\n",
    "import pandas as pd\n",
    "from sklearn.model_selection import train_test_split\n",
    "import numpy as np"
   ]
  },
  {
   "cell_type": "code",
   "execution_count": 2,
   "outputs": [
    {
     "name": "stdout",
     "output_type": "stream",
     "text": [
      "   size   color gender   price  weight bought\n",
      "0    XL     NaN    NaN  160.22    66.0    NaN\n",
      "1     L  yellow      F  246.55   143.0     no\n",
      "2     L   black      F  427.14    43.0    yes\n",
      "3    XS  yellow      F     NaN    94.0    NaN\n",
      "4     M   white      M   97.28     NaN     no\n",
      "5     M     red      M  455.85     NaN    NaN\n",
      "6    XL    blue      M  209.33    92.0    NaN\n",
      "7   NaN   white    NaN  279.82   125.0    yes\n",
      "8     S   green      M  260.58   104.0    yes\n",
      "9    XL   white      M  206.90    69.0    NaN\n",
      "10    S   khaki      F  300.38     NaN    yes\n",
      "11    M   white      F   91.29   109.0     no\n",
      "12    S     NaN      M  120.17    45.0    yes\n",
      "13    M     NaN      M  115.10    89.0    yes\n",
      "14    L    blue      M   52.23     NaN    yes\n",
      "15   XS  yellow      F   30.85    42.0    yes\n",
      "16    S    blue    NaN  237.05   115.0     no\n",
      "17  NaN     red      F  281.11    78.0    yes\n",
      "18    L   green      F  108.19   137.0    NaN\n",
      "19   XS   khaki      F     NaN   137.0     no\n"
     ]
    }
   ],
   "source": [
    "##Creating data\n",
    "data = {'size':[],\n",
    "\t\t\t\t'color':[],\n",
    "\t\t\t\t'gender':[],\n",
    "\t\t\t\t'price':[],\n",
    "\t\t\t\t'weight':[],\n",
    "\t\t\t\t'bought':[]}\n",
    "\n",
    "sizes = ['XS','S','M','L','XL']\n",
    "colors = ['white','black','red','blue','yellow','green','khaki']\n",
    "genders = ['M','F']\n",
    "for _ in range(20):\n",
    "\tdata['size'].append(random.choice(sizes))\n",
    "\tdata['color'].append(random.choice(colors))\n",
    "\tdata['gender'].append(random.choice(genders))\n",
    "\tdata['price'].append(round(random.random()*500,2))\n",
    "\tdata['weight'].append(random.randint(40,150))\n",
    "\tdata['bought'].append('yes' if random.random()>0.5 else 'no')\n",
    "\n",
    "for _ in range(20):\n",
    "\tkey = random.choice(list(data.keys()))\n",
    "\tidx = random.randint(0,19)\n",
    "\tdata[key][idx] = np.nan\n",
    "og_data = pd.DataFrame(data)\n",
    "df = og_data.copy()\n",
    "print(og_data)"
   ],
   "metadata": {
    "collapsed": false,
    "pycharm": {
     "name": "#%%\n"
    }
   }
  },
  {
   "cell_type": "code",
   "execution_count": 3,
   "outputs": [
    {
     "name": "stdout",
     "output_type": "stream",
     "text": [
      "   size   color gender   price  weight bought\n",
      "1     L  yellow      F  246.55   143.0     no\n",
      "2     L   black      F  427.14    43.0    yes\n",
      "3    XS  yellow      F     NaN    94.0    NaN\n",
      "4     M   white      M   97.28     NaN     no\n",
      "5     M     red      M  455.85     NaN    NaN\n",
      "6    XL    blue      M  209.33    92.0    NaN\n",
      "7   NaN   white    NaN  279.82   125.0    yes\n",
      "8     S   green      M  260.58   104.0    yes\n",
      "9    XL   white      M  206.90    69.0    NaN\n",
      "10    S   khaki      F  300.38     NaN    yes\n",
      "11    M   white      F   91.29   109.0     no\n",
      "12    S     NaN      M  120.17    45.0    yes\n",
      "13    M     NaN      M  115.10    89.0    yes\n",
      "14    L    blue      M   52.23     NaN    yes\n",
      "15   XS  yellow      F   30.85    42.0    yes\n",
      "16    S    blue    NaN  237.05   115.0     no\n",
      "17  NaN     red      F  281.11    78.0    yes\n",
      "18    L   green      F  108.19   137.0    NaN\n",
      "19   XS   khaki      F     NaN   137.0     no\n"
     ]
    }
   ],
   "source": [
    "#1.\tpomiń dane, które mają 3 lub więcej pustych wartości\n",
    "df.dropna(thresh=len(df.keys())-2,inplace=True)\n",
    "print(df)"
   ],
   "metadata": {
    "collapsed": false,
    "pycharm": {
     "name": "#%%\n"
    }
   }
  },
  {
   "cell_type": "code",
   "execution_count": 4,
   "outputs": [
    {
     "name": "stdout",
     "output_type": "stream",
     "text": [
      "   size   color gender       price  weight bought\n",
      "1     L  yellow      F  246.550000   143.0     no\n",
      "2     L   black      F  427.140000    43.0    yes\n",
      "3    XS  yellow      F  207.048235    94.0    NaN\n",
      "4     M   white      M   97.280000     NaN     no\n",
      "5     M     red      M  455.850000     NaN    NaN\n",
      "6    XL    blue      M  209.330000    92.0    NaN\n",
      "7   NaN   white    NaN  279.820000   125.0    yes\n",
      "8     S   green      M  260.580000   104.0    yes\n",
      "9    XL   white      M  206.900000    69.0    NaN\n",
      "10    S   khaki      F  300.380000     NaN    yes\n",
      "11    M   white      F   91.290000   109.0     no\n",
      "12    S     NaN      M  120.170000    45.0    yes\n",
      "13    M     NaN      M  115.100000    89.0    yes\n",
      "14    L    blue      M   52.230000     NaN    yes\n",
      "15   XS  yellow      F   30.850000    42.0    yes\n",
      "16    S    blue    NaN  237.050000   115.0     no\n",
      "17  NaN     red      F  281.110000    78.0    yes\n",
      "18    L   green      F  108.190000   137.0    NaN\n",
      "19   XS   khaki      F  207.048235   137.0     no\n"
     ]
    }
   ],
   "source": [
    "#2.\twypełnij puste miejsca w kolumnie price wartością średnią\n",
    "df['price'].fillna(df['price'].mean(), inplace=True)\n",
    "print(df)"
   ],
   "metadata": {
    "collapsed": false,
    "pycharm": {
     "name": "#%%\n"
    }
   }
  },
  {
   "cell_type": "code",
   "execution_count": 5,
   "outputs": [
    {
     "name": "stdout",
     "output_type": "stream",
     "text": [
      "   size   color gender       price      weight bought\n",
      "1     L  yellow      F  246.550000  143.000000     no\n",
      "2     L   black      F  427.140000   43.000000    yes\n",
      "3    XS  yellow      F  207.048235   94.000000    NaN\n",
      "4     M   white      M   97.280000   93.333333     no\n",
      "5     M     red      M  455.850000   92.666667    NaN\n",
      "6    XL    blue      M  209.330000   92.000000    NaN\n",
      "7   NaN   white    NaN  279.820000  125.000000    yes\n",
      "8     S   green      M  260.580000  104.000000    yes\n",
      "9    XL   white      M  206.900000   69.000000    NaN\n",
      "10    S   khaki      F  300.380000   89.000000    yes\n",
      "11    M   white      F   91.290000  109.000000     no\n",
      "12    S     NaN      M  120.170000   45.000000    yes\n",
      "13    M     NaN      M  115.100000   89.000000    yes\n",
      "14    L    blue      M   52.230000   65.500000    yes\n",
      "15   XS  yellow      F   30.850000   42.000000    yes\n",
      "16    S    blue    NaN  237.050000  115.000000     no\n",
      "17  NaN     red      F  281.110000   78.000000    yes\n",
      "18    L   green      F  108.190000  137.000000    NaN\n",
      "19   XS   khaki      F  207.048235  137.000000     no\n"
     ]
    }
   ],
   "source": [
    "#3.\twypełnij puste miejsca w kolumnie weight za pomocą interpolacji\n",
    "df['weight'].fillna(df['weight'].interpolate(), inplace=True)\n",
    "print(df)"
   ],
   "metadata": {
    "collapsed": false,
    "pycharm": {
     "name": "#%%\n"
    }
   }
  },
  {
   "cell_type": "code",
   "execution_count": 6,
   "outputs": [
    {
     "name": "stdout",
     "output_type": "stream",
     "text": [
      "        size   color gender       price      weight bought\n",
      "1          L  yellow      F  246.550000  143.000000     no\n",
      "2          L   black      F  427.140000   43.000000    yes\n",
      "3         XS  yellow      F  207.048235   94.000000    NaN\n",
      "4          M   white      M   97.280000   93.333333     no\n",
      "5          M     red      M  455.850000   92.666667    NaN\n",
      "6         XL    blue      M  209.330000   92.000000    NaN\n",
      "7   one size   white      M  279.820000  125.000000    yes\n",
      "8          S   green      M  260.580000  104.000000    yes\n",
      "9         XL   white      M  206.900000   69.000000    NaN\n",
      "10         S   khaki      F  300.380000   89.000000    yes\n",
      "11         M   white      F   91.290000  109.000000     no\n",
      "12         S   black      M  120.170000   45.000000    yes\n",
      "13         M   black      M  115.100000   89.000000    yes\n",
      "14         L    blue      M   52.230000   65.500000    yes\n",
      "15        XS  yellow      F   30.850000   42.000000    yes\n",
      "16         S    blue      M  237.050000  115.000000     no\n",
      "17  one size     red      F  281.110000   78.000000    yes\n",
      "18         L   green      F  108.190000  137.000000    NaN\n",
      "19        XS   khaki      F  207.048235  137.000000     no\n"
     ]
    }
   ],
   "source": [
    "#4.\twypełnij puste miejsca w kolumnie size, color i gender wartościami stałymi (np. unisex, black, male)\n",
    "df['size'].fillna('one size', inplace=True)\n",
    "df['color'].fillna('black', inplace=True)\n",
    "df['gender'].fillna('M', inplace=True)\n",
    "\n",
    "print(df)"
   ],
   "metadata": {
    "collapsed": false,
    "pycharm": {
     "name": "#%%\n"
    }
   }
  },
  {
   "cell_type": "code",
   "execution_count": 7,
   "outputs": [
    {
     "name": "stdout",
     "output_type": "stream",
     "text": [
      "        size   color gender       price      weight bought          cost\n",
      "1          L  yellow      F  246.550000  143.000000     no  normal_price\n",
      "2          L   black      F  427.140000   43.000000    yes     expensive\n",
      "3         XS  yellow      F  207.048235   94.000000    NaN  normal_price\n",
      "4          M   white      M   97.280000   93.333333     no         cheap\n",
      "5          M     red      M  455.850000   92.666667    NaN     expensive\n",
      "6         XL    blue      M  209.330000   92.000000    NaN  normal_price\n",
      "7   one size   white      M  279.820000  125.000000    yes  normal_price\n",
      "8          S   green      M  260.580000  104.000000    yes  normal_price\n",
      "9         XL   white      M  206.900000   69.000000    NaN  normal_price\n",
      "10         S   khaki      F  300.380000   89.000000    yes  normal_price\n",
      "11         M   white      F   91.290000  109.000000     no         cheap\n",
      "12         S   black      M  120.170000   45.000000    yes         cheap\n",
      "13         M   black      M  115.100000   89.000000    yes         cheap\n",
      "14         L    blue      M   52.230000   65.500000    yes         cheap\n",
      "15        XS  yellow      F   30.850000   42.000000    yes         cheap\n",
      "16         S    blue      M  237.050000  115.000000     no  normal_price\n",
      "17  one size     red      F  281.110000   78.000000    yes  normal_price\n",
      "18         L   green      F  108.190000  137.000000    NaN         cheap\n",
      "19        XS   khaki      F  207.048235  137.000000     no  normal_price\n"
     ]
    }
   ],
   "source": [
    "#5.\tdodaj do słownika kolumnę cost, która reprezentuje cenę jako jedną z klas: cheap, normal_price, expensive; podziału ceny na te klasy dokonaj automatycznie (argument bins metody pandas.cut)\n",
    "df['cost'] = pd.cut(df['price'], bins = 3, labels=('cheap', 'normal_price', 'expensive'))\n",
    "print(df)"
   ],
   "metadata": {
    "collapsed": false,
    "pycharm": {
     "name": "#%%\n"
    }
   }
  },
  {
   "cell_type": "code",
   "execution_count": 8,
   "outputs": [
    {
     "name": "stdout",
     "output_type": "stream",
     "text": [
      "        size   color gender       price      weight bought          cost  \\\n",
      "1          L  yellow      F  246.550000  143.000000     no  normal_price   \n",
      "2          L   black      F  427.140000   43.000000    yes     expensive   \n",
      "3         XS  yellow      F  207.048235   94.000000    NaN  normal_price   \n",
      "4          M   white      M   97.280000   93.333333     no         cheap   \n",
      "5          M     red      M  455.850000   92.666667    NaN     expensive   \n",
      "6         XL    blue      M  209.330000   92.000000    NaN  normal_price   \n",
      "7   one size   white      M  279.820000  125.000000    yes  normal_price   \n",
      "8          S   green      M  260.580000  104.000000    yes  normal_price   \n",
      "9         XL   white      M  206.900000   69.000000    NaN  normal_price   \n",
      "10         S   khaki      F  300.380000   89.000000    yes  normal_price   \n",
      "11         M   white      F   91.290000  109.000000     no         cheap   \n",
      "12         S   black      M  120.170000   45.000000    yes         cheap   \n",
      "13         M   black      M  115.100000   89.000000    yes         cheap   \n",
      "14         L    blue      M   52.230000   65.500000    yes         cheap   \n",
      "15        XS  yellow      F   30.850000   42.000000    yes         cheap   \n",
      "16         S    blue      M  237.050000  115.000000     no  normal_price   \n",
      "17  one size     red      F  281.110000   78.000000    yes  normal_price   \n",
      "18         L   green      F  108.190000  137.000000    NaN         cheap   \n",
      "19        XS   khaki      F  207.048235  137.000000     no  normal_price   \n",
      "\n",
      "    bought_yes  \n",
      "1            0  \n",
      "2            1  \n",
      "3            0  \n",
      "4            0  \n",
      "5            0  \n",
      "6            0  \n",
      "7            1  \n",
      "8            1  \n",
      "9            0  \n",
      "10           1  \n",
      "11           0  \n",
      "12           1  \n",
      "13           1  \n",
      "14           1  \n",
      "15           1  \n",
      "16           0  \n",
      "17           1  \n",
      "18           0  \n",
      "19           0  \n"
     ]
    }
   ],
   "source": [
    "#6.\tdostosuj dane do modelu tak, by przedstawiały wartość binarną (np. bought: [‘yes’, ‘no’, ‘yes’] na bought_yes: [1,0,1])\n",
    "df['bought_yes'] = df['bought'].apply(lambda x: 1 if 'yes' == x else 0)\n",
    "print(df)"
   ],
   "metadata": {
    "collapsed": false,
    "pycharm": {
     "name": "#%%\n"
    }
   }
  },
  {
   "cell_type": "code",
   "execution_count": 9,
   "outputs": [
    {
     "name": "stdout",
     "output_type": "stream",
     "text": [
      "            cost gender      size   color\n",
      "9   normal_price      M        XL   white\n",
      "16  normal_price      M         S    blue\n",
      "17  normal_price      F  one size     red\n",
      "13         cheap      M         M   black\n",
      "8   normal_price      M         S   green\n",
      "6   normal_price      M        XL    blue\n",
      "2      expensive      F         L   black\n",
      "5      expensive      M         M     red\n",
      "10  normal_price      F         S   khaki\n",
      "3   normal_price      F        XS  yellow\n",
      "18         cheap      F         L   green\n",
      "19  normal_price      F        XS   khaki\n",
      "15         cheap      F        XS  yellow\n",
      "1   normal_price      F         L  yellow\n",
      "4          cheap      M         M   white\n",
      "9     0\n",
      "16    0\n",
      "17    1\n",
      "13    1\n",
      "8     1\n",
      "6     0\n",
      "2     1\n",
      "5     0\n",
      "10    1\n",
      "3     0\n",
      "18    0\n",
      "19    0\n",
      "15    1\n",
      "1     0\n",
      "4     0\n",
      "Name: bought_yes, dtype: int64\n"
     ]
    }
   ],
   "source": [
    "#7.\tpodziel słownik na dane wejściowe i wartość wyjściową, a następnie podziel na zbiór uczący i testujący\n",
    "input =df[['cost','gender','size','color']]\n",
    "output=df['bought_yes']\n",
    "\n",
    "x_train, x_test, y_train, y_test = train_test_split(input, output, test_size=0.2)\n",
    "print(x_train)\n",
    "print(y_train)"
   ],
   "metadata": {
    "collapsed": false,
    "pycharm": {
     "name": "#%%\n"
    }
   }
  }
 ],
 "metadata": {
  "kernelspec": {
   "display_name": "Python 3",
   "language": "python",
   "name": "python3"
  },
  "language_info": {
   "codemirror_mode": {
    "name": "ipython",
    "version": 2
   },
   "file_extension": ".py",
   "mimetype": "text/x-python",
   "name": "python",
   "nbconvert_exporter": "python",
   "pygments_lexer": "ipython2",
   "version": "2.7.6"
  }
 },
 "nbformat": 4,
 "nbformat_minor": 0
}